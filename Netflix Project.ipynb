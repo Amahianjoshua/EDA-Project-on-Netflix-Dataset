{
 "cells": [
  {
   "cell_type": "code",
   "execution_count": 1,
   "id": "b607eb1c-ff66-4af6-92b9-154c00e70eff",
   "metadata": {},
   "outputs": [],
   "source": [
    "#importing the needed modules\n",
    "import numpy as np\n",
    "import pandas as pd\n",
    "import matplotlib.pyplot as plt\n",
    "import seaborn as sns\n",
    "import random\n",
    "seaborn_palettes = list(sns.palettes.SEABORN_PALETTES.keys())\n",
    "import warnings\n",
    "warnings.filterwarnings('ignore', category=FutureWarning)\n"
   ]
  },
  {
   "cell_type": "code",
   "execution_count": 2,
   "id": "7f164c09-1386-49c7-8241-d387e5089230",
   "metadata": {},
   "outputs": [],
   "source": [
    "# reading the csv file into a pandas DataFrame\n",
    "df=pd.read_csv(r\"C:\\Users\\joshua\\Desktop\\netflix_titles.csv\")"
   ]
  },
  {
   "cell_type": "code",
   "execution_count": 3,
   "id": "a45d1e06-568d-478c-8bab-9603c9705e4a",
   "metadata": {},
   "outputs": [
    {
     "data": {
      "text/html": [
       "<div>\n",
       "<style scoped>\n",
       "    .dataframe tbody tr th:only-of-type {\n",
       "        vertical-align: middle;\n",
       "    }\n",
       "\n",
       "    .dataframe tbody tr th {\n",
       "        vertical-align: top;\n",
       "    }\n",
       "\n",
       "    .dataframe thead th {\n",
       "        text-align: right;\n",
       "    }\n",
       "</style>\n",
       "<table border=\"1\" class=\"dataframe\">\n",
       "  <thead>\n",
       "    <tr style=\"text-align: right;\">\n",
       "      <th></th>\n",
       "      <th>show_id</th>\n",
       "      <th>type</th>\n",
       "      <th>title</th>\n",
       "      <th>director</th>\n",
       "      <th>cast</th>\n",
       "      <th>country</th>\n",
       "      <th>date_added</th>\n",
       "      <th>release_year</th>\n",
       "      <th>rating</th>\n",
       "      <th>duration</th>\n",
       "      <th>listed_in</th>\n",
       "      <th>description</th>\n",
       "    </tr>\n",
       "  </thead>\n",
       "  <tbody>\n",
       "    <tr>\n",
       "      <th>0</th>\n",
       "      <td>s1</td>\n",
       "      <td>Movie</td>\n",
       "      <td>Dick Johnson Is Dead</td>\n",
       "      <td>Kirsten Johnson</td>\n",
       "      <td>NaN</td>\n",
       "      <td>United States</td>\n",
       "      <td>September 25, 2021</td>\n",
       "      <td>2020</td>\n",
       "      <td>PG-13</td>\n",
       "      <td>90 min</td>\n",
       "      <td>Documentaries</td>\n",
       "      <td>As her father nears the end of his life, filmm...</td>\n",
       "    </tr>\n",
       "    <tr>\n",
       "      <th>1</th>\n",
       "      <td>s2</td>\n",
       "      <td>TV Show</td>\n",
       "      <td>Blood &amp; Water</td>\n",
       "      <td>NaN</td>\n",
       "      <td>Ama Qamata, Khosi Ngema, Gail Mabalane, Thaban...</td>\n",
       "      <td>South Africa</td>\n",
       "      <td>September 24, 2021</td>\n",
       "      <td>2021</td>\n",
       "      <td>TV-MA</td>\n",
       "      <td>2 Seasons</td>\n",
       "      <td>International TV Shows, TV Dramas, TV Mysteries</td>\n",
       "      <td>After crossing paths at a party, a Cape Town t...</td>\n",
       "    </tr>\n",
       "  </tbody>\n",
       "</table>\n",
       "</div>"
      ],
      "text/plain": [
       "  show_id     type                 title         director  \\\n",
       "0      s1    Movie  Dick Johnson Is Dead  Kirsten Johnson   \n",
       "1      s2  TV Show         Blood & Water              NaN   \n",
       "\n",
       "                                                cast        country  \\\n",
       "0                                                NaN  United States   \n",
       "1  Ama Qamata, Khosi Ngema, Gail Mabalane, Thaban...   South Africa   \n",
       "\n",
       "           date_added  release_year rating   duration  \\\n",
       "0  September 25, 2021          2020  PG-13     90 min   \n",
       "1  September 24, 2021          2021  TV-MA  2 Seasons   \n",
       "\n",
       "                                         listed_in  \\\n",
       "0                                    Documentaries   \n",
       "1  International TV Shows, TV Dramas, TV Mysteries   \n",
       "\n",
       "                                         description  \n",
       "0  As her father nears the end of his life, filmm...  \n",
       "1  After crossing paths at a party, a Cape Town t...  "
      ]
     },
     "execution_count": 3,
     "metadata": {},
     "output_type": "execute_result"
    }
   ],
   "source": [
    "df.head(2)"
   ]
  },
  {
   "cell_type": "code",
   "execution_count": 4,
   "id": "07cae37f-6fdf-41c7-b958-131581dc10b3",
   "metadata": {},
   "outputs": [
    {
     "data": {
      "text/plain": [
       "Index(['show_id', 'type', 'title', 'director', 'cast', 'country', 'date_added',\n",
       "       'release_year', 'rating', 'duration', 'listed_in', 'description'],\n",
       "      dtype='object')"
      ]
     },
     "execution_count": 4,
     "metadata": {},
     "output_type": "execute_result"
    }
   ],
   "source": [
    "df.columns"
   ]
  },
  {
   "cell_type": "code",
   "execution_count": 5,
   "id": "db3850e6-8514-451e-bcea-728dd2956cf9",
   "metadata": {},
   "outputs": [
    {
     "data": {
      "text/plain": [
       "(8807, 12)"
      ]
     },
     "execution_count": 5,
     "metadata": {},
     "output_type": "execute_result"
    }
   ],
   "source": [
    "# Check for size of the dataset\n",
    "df.shape"
   ]
  },
  {
   "cell_type": "code",
   "execution_count": 6,
   "id": "2447fa84-6b51-4b3a-b821-e8fa0a44dbf0",
   "metadata": {},
   "outputs": [
    {
     "name": "stdout",
     "output_type": "stream",
     "text": [
      "The dataset has 8807 rows and 12 columns\n"
     ]
    }
   ],
   "source": [
    "print(f'The dataset has {df.shape[0]} rows and {df.shape[1]} columns')"
   ]
  },
  {
   "cell_type": "code",
   "execution_count": 7,
   "id": "4df9a4e3-1514-406b-b09c-6770b7c0f252",
   "metadata": {},
   "outputs": [
    {
     "name": "stdout",
     "output_type": "stream",
     "text": [
      "<class 'pandas.core.frame.DataFrame'>\n",
      "RangeIndex: 8807 entries, 0 to 8806\n",
      "Data columns (total 12 columns):\n",
      " #   Column        Non-Null Count  Dtype \n",
      "---  ------        --------------  ----- \n",
      " 0   show_id       8807 non-null   object\n",
      " 1   type          8807 non-null   object\n",
      " 2   title         8807 non-null   object\n",
      " 3   director      6173 non-null   object\n",
      " 4   cast          7982 non-null   object\n",
      " 5   country       7976 non-null   object\n",
      " 6   date_added    8797 non-null   object\n",
      " 7   release_year  8807 non-null   int64 \n",
      " 8   rating        8803 non-null   object\n",
      " 9   duration      8804 non-null   object\n",
      " 10  listed_in     8807 non-null   object\n",
      " 11  description   8807 non-null   object\n",
      "dtypes: int64(1), object(11)\n",
      "memory usage: 825.8+ KB\n"
     ]
    }
   ],
   "source": [
    "df.info()"
   ]
  },
  {
   "cell_type": "code",
   "execution_count": 8,
   "id": "30de12d8-2b6c-4fd7-b55a-a6dad4e2bc34",
   "metadata": {},
   "outputs": [
    {
     "data": {
      "text/plain": [
       "show_id            0\n",
       "type               0\n",
       "title              0\n",
       "director        2634\n",
       "cast             825\n",
       "country          831\n",
       "date_added        10\n",
       "release_year       0\n",
       "rating             4\n",
       "duration           3\n",
       "listed_in          0\n",
       "description        0\n",
       "dtype: int64"
      ]
     },
     "execution_count": 8,
     "metadata": {},
     "output_type": "execute_result"
    }
   ],
   "source": [
    "# Check for missing values\n",
    "df.isna().sum()"
   ]
  },
  {
   "cell_type": "code",
   "execution_count": 9,
   "id": "dd8fe396-b226-4b40-a58d-f97e73086f14",
   "metadata": {},
   "outputs": [
    {
     "name": "stdout",
     "output_type": "stream",
     "text": [
      "Presence of Missing Values in the dataset\n"
     ]
    }
   ],
   "source": [
    "print('Presence of Missing Values in the dataset')"
   ]
  },
  {
   "cell_type": "code",
   "execution_count": 10,
   "id": "e8b46b7b-1ea3-4575-9d9f-70395ab66735",
   "metadata": {},
   "outputs": [
    {
     "data": {
      "text/plain": [
       "False"
      ]
     },
     "execution_count": 10,
     "metadata": {},
     "output_type": "execute_result"
    }
   ],
   "source": [
    "# Check for duplicates\n",
    "df.duplicated().any()"
   ]
  },
  {
   "cell_type": "code",
   "execution_count": 11,
   "id": "0b8a04a9-4b84-475f-a310-516c0b97f946",
   "metadata": {},
   "outputs": [
    {
     "name": "stdout",
     "output_type": "stream",
     "text": [
      "No duplicates in the dataset\n"
     ]
    }
   ],
   "source": [
    "print('No duplicates in the dataset')"
   ]
  },
  {
   "cell_type": "code",
   "execution_count": 12,
   "id": "97bdb5ad-153c-43d8-9550-ea60e146f9d6",
   "metadata": {},
   "outputs": [
    {
     "data": {
      "text/plain": [
       "rating\n",
       "TV-MA       3207\n",
       "TV-14       2160\n",
       "TV-PG        863\n",
       "R            799\n",
       "PG-13        490\n",
       "TV-Y7        334\n",
       "TV-Y         307\n",
       "PG           287\n",
       "TV-G         220\n",
       "NR            80\n",
       "G             41\n",
       "TV-Y7-FV       6\n",
       "NC-17          3\n",
       "UR             3\n",
       "74 min         1\n",
       "84 min         1\n",
       "66 min         1\n",
       "Name: count, dtype: int64"
      ]
     },
     "execution_count": 12,
     "metadata": {},
     "output_type": "execute_result"
    }
   ],
   "source": [
    "df['rating'].value_counts()"
   ]
  },
  {
   "cell_type": "code",
   "execution_count": 13,
   "id": "15a15d05-b9bd-4f54-9bc3-5ce3976fd43c",
   "metadata": {},
   "outputs": [
    {
     "data": {
      "text/plain": [
       "show_id         object\n",
       "type            object\n",
       "title           object\n",
       "director        object\n",
       "cast            object\n",
       "country         object\n",
       "date_added      object\n",
       "release_year     int64\n",
       "rating          object\n",
       "duration        object\n",
       "listed_in       object\n",
       "description     object\n",
       "dtype: object"
      ]
     },
     "execution_count": 13,
     "metadata": {},
     "output_type": "execute_result"
    }
   ],
   "source": [
    "df.dtypes"
   ]
  },
  {
   "cell_type": "code",
   "execution_count": 14,
   "id": "c628b5a7-0b6a-4d89-835d-218bb76d2fbd",
   "metadata": {},
   "outputs": [
    {
     "data": {
      "text/plain": [
       "listed_in\n",
       "Dramas, International Movies                          362\n",
       "Documentaries                                         359\n",
       "Stand-Up Comedy                                       334\n",
       "Comedies, Dramas, International Movies                274\n",
       "Dramas, Independent Movies, International Movies      252\n",
       "                                                     ... \n",
       "Kids' TV, TV Action & Adventure, TV Dramas              1\n",
       "TV Comedies, TV Dramas, TV Horror                       1\n",
       "Children & Family Movies, Comedies, LGBTQ Movies        1\n",
       "Kids' TV, Spanish-Language TV Shows, Teen TV Shows      1\n",
       "Cult Movies, Dramas, Thrillers                          1\n",
       "Name: count, Length: 514, dtype: int64"
      ]
     },
     "execution_count": 14,
     "metadata": {},
     "output_type": "execute_result"
    }
   ],
   "source": [
    "df['listed_in'].value_counts()"
   ]
  },
  {
   "cell_type": "code",
   "execution_count": 15,
   "id": "82d70e97-8beb-4899-aab9-cbd87562bc0b",
   "metadata": {},
   "outputs": [
    {
     "data": {
      "text/plain": [
       "0    2018\n",
       "Name: release_year, dtype: int64"
      ]
     },
     "execution_count": 15,
     "metadata": {},
     "output_type": "execute_result"
    }
   ],
   "source": [
    "df['release_year'].mode(0)"
   ]
  },
  {
   "cell_type": "markdown",
   "id": "5d83f826-d942-4f14-9855-bb18d86a843b",
   "metadata": {},
   "source": [
    "### Issues Identified in the Dataset\n",
    "- Presence of null values\n",
    "- Incorrect data placement in the rating column\n",
    "- Incorrect data type for the date_added column"
   ]
  },
  {
   "cell_type": "markdown",
   "id": "5e34190b-37d0-4747-9009-dc5995a1e87e",
   "metadata": {},
   "source": [
    "# Data Cleaning Process"
   ]
  },
  {
   "cell_type": "markdown",
   "id": "542cb965-e0e6-4e4e-95f1-a58dd85efebc",
   "metadata": {},
   "source": [
    "### Handling Incorrect data type for the date_added column"
   ]
  },
  {
   "cell_type": "markdown",
   "id": "5eac67c4-e1d5-4bc1-aa8d-3b2d5e260b2f",
   "metadata": {},
   "source": [
    "Converting the 'date_added' column from object to datetime datatype"
   ]
  },
  {
   "cell_type": "code",
   "execution_count": 16,
   "id": "432f3328-4221-43d4-9db9-84b1a8b2ee2e",
   "metadata": {},
   "outputs": [],
   "source": [
    "df['date_added'] = pd.to_datetime(df['date_added'], errors='coerce')"
   ]
  },
  {
   "cell_type": "code",
   "execution_count": 17,
   "id": "89611b8a-cbeb-41ad-b93b-2ee33568bef4",
   "metadata": {},
   "outputs": [
    {
     "data": {
      "text/plain": [
       "show_id                 object\n",
       "type                    object\n",
       "title                   object\n",
       "director                object\n",
       "cast                    object\n",
       "country                 object\n",
       "date_added      datetime64[ns]\n",
       "release_year             int64\n",
       "rating                  object\n",
       "duration                object\n",
       "listed_in               object\n",
       "description             object\n",
       "dtype: object"
      ]
     },
     "execution_count": 17,
     "metadata": {},
     "output_type": "execute_result"
    }
   ],
   "source": [
    "df.dtypes"
   ]
  },
  {
   "cell_type": "markdown",
   "id": "a30b20e5-0e50-49cb-83bd-86d72a1310e2",
   "metadata": {},
   "source": [
    "### Handling Incorrect data placement in the rating column\n",
    "\"Move Duration Values from Rating to Duration Column in a DataFrame\""
   ]
  },
  {
   "cell_type": "code",
   "execution_count": 18,
   "id": "e652344b-2048-48e1-8c63-69bab66c26b2",
   "metadata": {},
   "outputs": [],
   "source": [
    "def move_duration_values(df, minute_values):\n",
    "    \"\"\"\n",
    "    Moves specific minute values from the 'rating' column to the 'duration' column \n",
    "    in a DataFrame and sets those entries in the 'rating' column to NaN.\n",
    "\n",
    "    Parameters:\n",
    "    df (pd.DataFrame): The DataFrame containing 'rating' and 'duration' columns.\n",
    "    minute_values (list of str): List of duration values (as strings) to move from \n",
    "                                 'rating' to 'duration' column.\n",
    "\n",
    "    Returns:\n",
    "    pd.DataFrame: The modified DataFrame with specified minute values moved to \n",
    "                  'duration' and corresponding 'rating' entries set to NaN.\n",
    "    \"\"\"\n",
    "    # Move the values from 'rating' to 'duration' where they are in the list\n",
    "    df.loc[df['rating'].isin(minute_values), 'duration'] = df['rating']\n",
    "    \n",
    "    # Set the 'rating' column to NaN for these rows\n",
    "    df.loc[df['rating'].isin(minute_values), 'rating'] = np.nan\n",
    "    \n",
    "    return df\n",
    "# List of values that should be moved from 'rating' to 'duration'\n",
    "minute_values = ['74 min', '84 min', '66 min']\n",
    "\n",
    "# Call the function\n",
    "df = move_duration_values(df, minute_values)  "
   ]
  },
  {
   "cell_type": "markdown",
   "id": "5143f6d3-1bdd-4bc7-b5be-5b72c4643024",
   "metadata": {},
   "source": [
    "### Renaming Columns and Dropping irrelevant Columns\n"
   ]
  },
  {
   "cell_type": "code",
   "execution_count": 19,
   "id": "5d2667c4-aa24-41c4-ac41-bf98279f348c",
   "metadata": {},
   "outputs": [],
   "source": [
    "## Drop irrelevant column\n",
    "df.drop('show_id', axis=1, inplace=True)\n",
    " "
   ]
  },
  {
   "cell_type": "code",
   "execution_count": 20,
   "id": "79e8a7e3-2339-401f-bb9f-c6ca2d9a9e5a",
   "metadata": {},
   "outputs": [],
   "source": [
    "## Renaming column\n",
    "df.rename(columns={'listed_in': 'genres'}, inplace=True)"
   ]
  },
  {
   "cell_type": "code",
   "execution_count": 21,
   "id": "947f0549-6635-432d-901d-a3c66c1ac92f",
   "metadata": {},
   "outputs": [
    {
     "data": {
      "text/html": [
       "<div>\n",
       "<style scoped>\n",
       "    .dataframe tbody tr th:only-of-type {\n",
       "        vertical-align: middle;\n",
       "    }\n",
       "\n",
       "    .dataframe tbody tr th {\n",
       "        vertical-align: top;\n",
       "    }\n",
       "\n",
       "    .dataframe thead th {\n",
       "        text-align: right;\n",
       "    }\n",
       "</style>\n",
       "<table border=\"1\" class=\"dataframe\">\n",
       "  <thead>\n",
       "    <tr style=\"text-align: right;\">\n",
       "      <th></th>\n",
       "      <th>type</th>\n",
       "      <th>title</th>\n",
       "      <th>director</th>\n",
       "      <th>cast</th>\n",
       "      <th>country</th>\n",
       "      <th>date_added</th>\n",
       "      <th>release_year</th>\n",
       "      <th>rating</th>\n",
       "      <th>duration</th>\n",
       "      <th>genres</th>\n",
       "      <th>description</th>\n",
       "    </tr>\n",
       "  </thead>\n",
       "  <tbody>\n",
       "    <tr>\n",
       "      <th>0</th>\n",
       "      <td>Movie</td>\n",
       "      <td>Dick Johnson Is Dead</td>\n",
       "      <td>Kirsten Johnson</td>\n",
       "      <td>NaN</td>\n",
       "      <td>United States</td>\n",
       "      <td>2021-09-25</td>\n",
       "      <td>2020</td>\n",
       "      <td>PG-13</td>\n",
       "      <td>90 min</td>\n",
       "      <td>Documentaries</td>\n",
       "      <td>As her father nears the end of his life, filmm...</td>\n",
       "    </tr>\n",
       "    <tr>\n",
       "      <th>1</th>\n",
       "      <td>TV Show</td>\n",
       "      <td>Blood &amp; Water</td>\n",
       "      <td>NaN</td>\n",
       "      <td>Ama Qamata, Khosi Ngema, Gail Mabalane, Thaban...</td>\n",
       "      <td>South Africa</td>\n",
       "      <td>2021-09-24</td>\n",
       "      <td>2021</td>\n",
       "      <td>TV-MA</td>\n",
       "      <td>2 Seasons</td>\n",
       "      <td>International TV Shows, TV Dramas, TV Mysteries</td>\n",
       "      <td>After crossing paths at a party, a Cape Town t...</td>\n",
       "    </tr>\n",
       "  </tbody>\n",
       "</table>\n",
       "</div>"
      ],
      "text/plain": [
       "      type                 title         director  \\\n",
       "0    Movie  Dick Johnson Is Dead  Kirsten Johnson   \n",
       "1  TV Show         Blood & Water              NaN   \n",
       "\n",
       "                                                cast        country  \\\n",
       "0                                                NaN  United States   \n",
       "1  Ama Qamata, Khosi Ngema, Gail Mabalane, Thaban...   South Africa   \n",
       "\n",
       "  date_added  release_year rating   duration  \\\n",
       "0 2021-09-25          2020  PG-13     90 min   \n",
       "1 2021-09-24          2021  TV-MA  2 Seasons   \n",
       "\n",
       "                                            genres  \\\n",
       "0                                    Documentaries   \n",
       "1  International TV Shows, TV Dramas, TV Mysteries   \n",
       "\n",
       "                                         description  \n",
       "0  As her father nears the end of his life, filmm...  \n",
       "1  After crossing paths at a party, a Cape Town t...  "
      ]
     },
     "execution_count": 21,
     "metadata": {},
     "output_type": "execute_result"
    }
   ],
   "source": [
    "df.head(2)"
   ]
  },
  {
   "cell_type": "markdown",
   "id": "e570ee1f-4e8a-4487-963a-d82848f15603",
   "metadata": {},
   "source": [
    "### Checking for unique values of rating and categorising them for better understanding"
   ]
  },
  {
   "cell_type": "code",
   "execution_count": 22,
   "id": "5abfb024-e120-47ed-8f4c-f03f8bc82745",
   "metadata": {},
   "outputs": [
    {
     "data": {
      "text/plain": [
       "array(['PG-13', 'TV-MA', 'PG', 'TV-14', 'TV-PG', 'TV-Y', 'TV-Y7', 'R',\n",
       "       'TV-G', 'G', 'NC-17', nan, 'NR', 'TV-Y7-FV', 'UR'], dtype=object)"
      ]
     },
     "execution_count": 22,
     "metadata": {},
     "output_type": "execute_result"
    }
   ],
   "source": [
    "df['rating'].unique()"
   ]
  },
  {
   "cell_type": "code",
   "execution_count": 23,
   "id": "e786b738-6e41-4432-a903-b3967daa02bd",
   "metadata": {},
   "outputs": [],
   "source": [
    "def rename_rating_values(df):\n",
    "    \"\"\"\n",
    "    Renames specific values in the 'rating' column to broader categories such as \n",
    "    'Kids', 'Teens', 'Adults', and treats 'UR' and 'NR' as NaN.\n",
    "    \n",
    "    Parameters:\n",
    "    df (pd.DataFrame): The DataFrame containing the 'rating' column with rating values.\n",
    "\n",
    "    Returns:\n",
    "    pd.DataFrame: The modified DataFrame with renamed rating values and 'UR'/'NR' as NaN.\n",
    "    \"\"\"\n",
    "    # Mapping of rating values to categories, treating 'UR' and 'NR' as NaN\n",
    "    rating_map = {\n",
    "        'G': 'Kids',\n",
    "        'TV-Y': 'Kids',\n",
    "        'TV-Y7': 'Kids',\n",
    "        'TV-Y7-FV': 'Kids',\n",
    "        'PG': 'Kids',\n",
    "        'TV-PG': 'Kids',\n",
    "        'PG-13': 'Teens',\n",
    "        'TV-14': 'Teens',\n",
    "        'R': 'Adults',\n",
    "        'TV-MA': 'Adults',\n",
    "        'NC-17': 'Adults',\n",
    "        'UR': np.nan,  # Treat 'UR' as NaN\n",
    "        'NR': np.nan,  # Treat 'NR' as NaN\n",
    "    }\n",
    "\n",
    "    # Apply the mapping to the 'rating' column and leave other NaN as NaN\n",
    "    df['rating'] = df['rating'].map(rating_map)\n",
    "\n",
    "    return df\n",
    "df = rename_rating_values(df)"
   ]
  },
  {
   "cell_type": "code",
   "execution_count": 24,
   "id": "48fd4aff-cc63-498a-b8e3-828720ebf375",
   "metadata": {},
   "outputs": [
    {
     "data": {
      "text/html": [
       "<div>\n",
       "<style scoped>\n",
       "    .dataframe tbody tr th:only-of-type {\n",
       "        vertical-align: middle;\n",
       "    }\n",
       "\n",
       "    .dataframe tbody tr th {\n",
       "        vertical-align: top;\n",
       "    }\n",
       "\n",
       "    .dataframe thead th {\n",
       "        text-align: right;\n",
       "    }\n",
       "</style>\n",
       "<table border=\"1\" class=\"dataframe\">\n",
       "  <thead>\n",
       "    <tr style=\"text-align: right;\">\n",
       "      <th></th>\n",
       "      <th>type</th>\n",
       "      <th>title</th>\n",
       "      <th>director</th>\n",
       "      <th>cast</th>\n",
       "      <th>country</th>\n",
       "      <th>date_added</th>\n",
       "      <th>release_year</th>\n",
       "      <th>rating</th>\n",
       "      <th>duration</th>\n",
       "      <th>genres</th>\n",
       "      <th>description</th>\n",
       "    </tr>\n",
       "  </thead>\n",
       "  <tbody>\n",
       "    <tr>\n",
       "      <th>0</th>\n",
       "      <td>Movie</td>\n",
       "      <td>Dick Johnson Is Dead</td>\n",
       "      <td>Kirsten Johnson</td>\n",
       "      <td>NaN</td>\n",
       "      <td>United States</td>\n",
       "      <td>2021-09-25</td>\n",
       "      <td>2020</td>\n",
       "      <td>Teens</td>\n",
       "      <td>90 min</td>\n",
       "      <td>Documentaries</td>\n",
       "      <td>As her father nears the end of his life, filmm...</td>\n",
       "    </tr>\n",
       "    <tr>\n",
       "      <th>1</th>\n",
       "      <td>TV Show</td>\n",
       "      <td>Blood &amp; Water</td>\n",
       "      <td>NaN</td>\n",
       "      <td>Ama Qamata, Khosi Ngema, Gail Mabalane, Thaban...</td>\n",
       "      <td>South Africa</td>\n",
       "      <td>2021-09-24</td>\n",
       "      <td>2021</td>\n",
       "      <td>Adults</td>\n",
       "      <td>2 Seasons</td>\n",
       "      <td>International TV Shows, TV Dramas, TV Mysteries</td>\n",
       "      <td>After crossing paths at a party, a Cape Town t...</td>\n",
       "    </tr>\n",
       "    <tr>\n",
       "      <th>2</th>\n",
       "      <td>TV Show</td>\n",
       "      <td>Ganglands</td>\n",
       "      <td>Julien Leclercq</td>\n",
       "      <td>Sami Bouajila, Tracy Gotoas, Samuel Jouy, Nabi...</td>\n",
       "      <td>NaN</td>\n",
       "      <td>2021-09-24</td>\n",
       "      <td>2021</td>\n",
       "      <td>Adults</td>\n",
       "      <td>1 Season</td>\n",
       "      <td>Crime TV Shows, International TV Shows, TV Act...</td>\n",
       "      <td>To protect his family from a powerful drug lor...</td>\n",
       "    </tr>\n",
       "    <tr>\n",
       "      <th>3</th>\n",
       "      <td>TV Show</td>\n",
       "      <td>Jailbirds New Orleans</td>\n",
       "      <td>NaN</td>\n",
       "      <td>NaN</td>\n",
       "      <td>NaN</td>\n",
       "      <td>2021-09-24</td>\n",
       "      <td>2021</td>\n",
       "      <td>Adults</td>\n",
       "      <td>1 Season</td>\n",
       "      <td>Docuseries, Reality TV</td>\n",
       "      <td>Feuds, flirtations and toilet talk go down amo...</td>\n",
       "    </tr>\n",
       "    <tr>\n",
       "      <th>4</th>\n",
       "      <td>TV Show</td>\n",
       "      <td>Kota Factory</td>\n",
       "      <td>NaN</td>\n",
       "      <td>Mayur More, Jitendra Kumar, Ranjan Raj, Alam K...</td>\n",
       "      <td>India</td>\n",
       "      <td>2021-09-24</td>\n",
       "      <td>2021</td>\n",
       "      <td>Adults</td>\n",
       "      <td>2 Seasons</td>\n",
       "      <td>International TV Shows, Romantic TV Shows, TV ...</td>\n",
       "      <td>In a city of coaching centers known to train I...</td>\n",
       "    </tr>\n",
       "  </tbody>\n",
       "</table>\n",
       "</div>"
      ],
      "text/plain": [
       "      type                  title         director  \\\n",
       "0    Movie   Dick Johnson Is Dead  Kirsten Johnson   \n",
       "1  TV Show          Blood & Water              NaN   \n",
       "2  TV Show              Ganglands  Julien Leclercq   \n",
       "3  TV Show  Jailbirds New Orleans              NaN   \n",
       "4  TV Show           Kota Factory              NaN   \n",
       "\n",
       "                                                cast        country  \\\n",
       "0                                                NaN  United States   \n",
       "1  Ama Qamata, Khosi Ngema, Gail Mabalane, Thaban...   South Africa   \n",
       "2  Sami Bouajila, Tracy Gotoas, Samuel Jouy, Nabi...            NaN   \n",
       "3                                                NaN            NaN   \n",
       "4  Mayur More, Jitendra Kumar, Ranjan Raj, Alam K...          India   \n",
       "\n",
       "  date_added  release_year  rating   duration  \\\n",
       "0 2021-09-25          2020   Teens     90 min   \n",
       "1 2021-09-24          2021  Adults  2 Seasons   \n",
       "2 2021-09-24          2021  Adults   1 Season   \n",
       "3 2021-09-24          2021  Adults   1 Season   \n",
       "4 2021-09-24          2021  Adults  2 Seasons   \n",
       "\n",
       "                                              genres  \\\n",
       "0                                      Documentaries   \n",
       "1    International TV Shows, TV Dramas, TV Mysteries   \n",
       "2  Crime TV Shows, International TV Shows, TV Act...   \n",
       "3                             Docuseries, Reality TV   \n",
       "4  International TV Shows, Romantic TV Shows, TV ...   \n",
       "\n",
       "                                         description  \n",
       "0  As her father nears the end of his life, filmm...  \n",
       "1  After crossing paths at a party, a Cape Town t...  \n",
       "2  To protect his family from a powerful drug lor...  \n",
       "3  Feuds, flirtations and toilet talk go down amo...  \n",
       "4  In a city of coaching centers known to train I...  "
      ]
     },
     "execution_count": 24,
     "metadata": {},
     "output_type": "execute_result"
    }
   ],
   "source": [
    "df.head()"
   ]
  },
  {
   "cell_type": "code",
   "execution_count": 25,
   "id": "b4335a8b-31fb-4d15-ab7d-6432460ea57b",
   "metadata": {},
   "outputs": [
    {
     "data": {
      "text/plain": [
       "array(['Teens', 'Adults', 'Kids', nan], dtype=object)"
      ]
     },
     "execution_count": 25,
     "metadata": {},
     "output_type": "execute_result"
    }
   ],
   "source": [
    "df['rating'].unique()"
   ]
  },
  {
   "cell_type": "markdown",
   "id": "28caee34-c6e7-4c78-8473-75d0848ba2c8",
   "metadata": {},
   "source": [
    "### **Handling Null Values**"
   ]
  },
  {
   "cell_type": "code",
   "execution_count": 26,
   "id": "8d7afc36-9d0e-480c-b124-68a4e1211639",
   "metadata": {},
   "outputs": [
    {
     "name": "stdout",
     "output_type": "stream",
     "text": [
      "Total Records Present: 8807\n",
      "\n",
      "Columns with missing values:\n",
      "            Missing Value Count  Percentage%\n",
      "director                   2634        29.91\n",
      "country                     831         9.44\n",
      "cast                        825         9.37\n",
      "rating                      310         3.52\n",
      "date_added                   98         1.11\n",
      "\n",
      "Total Missing Values: 4698 (53.34%)\n"
     ]
    }
   ],
   "source": [
    "def summarize_missing_values(df):\n",
    "    \"\"\"\n",
    "    This function summarizes the missing values in a DataFrame by calculating \n",
    "    the count and percentage of missing values for each column. It also displays \n",
    "    columns with missing values and prints the total missing values along with \n",
    "    their percentage in the entire DataFrame.\n",
    "\n",
    "    Parameters:\n",
    "    df (pd.DataFrame): The DataFrame in which missing values are to be analyzed.\n",
    "\n",
    "    Returns:\n",
    "    None: The function prints the summary of missing values, columns with missing data,\n",
    "          and the total missing values count and percentage.\n",
    "    \"\"\"\n",
    "    # Calculate the count of missing values for each column\n",
    "    missing_count = df.isnull().sum()\n",
    "\n",
    "    # Calculate the percentage of missing values for each column\n",
    "    missing_percentage = (df.isnull().mean()) * 100\n",
    "\n",
    "    # Round the percentage to two decimal place\n",
    "    missing_percentage=missing_percentage.round(2)\n",
    "\n",
    "    # Create a DataFrame with the missing count and percentage side by side\n",
    "    missing_summary = pd.DataFrame({\n",
    "        'Missing Value Count': missing_count,\n",
    "        'Percentage%': missing_percentage\n",
    "    })\n",
    "\n",
    "    # Sort the missing data summary by the 'Missing Value Count' in descending order\n",
    "    missing_summary_sorted = missing_summary.sort_values(by='Missing Value Count', ascending=False)\n",
    "\n",
    "    # Display total number of records (rows) in the DataFrame\n",
    "    print(f'Total Records Present: {df.shape[0]}')\n",
    "\n",
    "    # Display columns with missing values, ignoring those with no missing values\n",
    "    print(\"\\nColumns with missing values:\")\n",
    "    print(missing_summary_sorted[missing_summary_sorted['Missing Value Count'] > 0])\n",
    "\n",
    "    # Display the total missing values and the percentage of missing data\n",
    "    total_missing = missing_summary_sorted['Missing Value Count'].sum()\n",
    "    total_percentage = (total_missing / df.shape[0]) * 100\n",
    "\n",
    "    print(f'\\nTotal Missing Values: {total_missing} ({round(total_percentage, 2)}%)')\n",
    "\n",
    "summarize_missing_values(df)"
   ]
  },
  {
   "cell_type": "markdown",
   "id": "b0ee9cbb-c84b-434a-a8e7-5671497eb1c5",
   "metadata": {},
   "source": [
    "Impute missing 'date_added' with January 1st of 'release_year'"
   ]
  },
  {
   "cell_type": "code",
   "execution_count": 27,
   "id": "8411c8ef-3017-4740-8703-43259c0811e5",
   "metadata": {},
   "outputs": [],
   "source": [
    "df['date_added'] = df['date_added'].fillna(pd.to_datetime(df['release_year'].astype(str) + '-01-01'))"
   ]
  },
  {
   "cell_type": "markdown",
   "id": "9efa75f8-b0be-4b9a-a864-02c92a4ee70e",
   "metadata": {},
   "source": [
    "Replace missing values in 'cast' and 'director' columns with 'Unknown'"
   ]
  },
  {
   "cell_type": "code",
   "execution_count": 28,
   "id": "a47750a6-0b67-4a54-b26c-9631d82ada51",
   "metadata": {},
   "outputs": [],
   "source": [
    "df['cast']=df['cast'].fillna('Unknown')\n",
    "df['director']=df['director'].fillna('Unknown')"
   ]
  },
  {
   "cell_type": "markdown",
   "id": "c479eaaa-3764-4e70-b1d5-e2fae59928e3",
   "metadata": {},
   "source": [
    "Replace missing values in 'country' and 'rating' columns with their respective modes"
   ]
  },
  {
   "cell_type": "code",
   "execution_count": 29,
   "id": "91048d99-d2a7-41e0-952b-b235590e7ce7",
   "metadata": {},
   "outputs": [],
   "source": [
    "df['country'] = df['country'].fillna(df['country'].mode()[0])\n",
    "df['rating']=df['rating'].fillna(df['rating'].mode()[0])"
   ]
  },
  {
   "cell_type": "code",
   "execution_count": 30,
   "id": "6e293cd3-6424-486b-988c-69abd8cdb12c",
   "metadata": {},
   "outputs": [
    {
     "name": "stdout",
     "output_type": "stream",
     "text": [
      "Total Records Present: 8807\n",
      "\n",
      "Columns with missing values:\n",
      "Empty DataFrame\n",
      "Columns: [Missing Value Count, Percentage%]\n",
      "Index: []\n",
      "\n",
      "Total Missing Values: 0 (0.0%)\n"
     ]
    }
   ],
   "source": [
    "summarize_missing_values(df)"
   ]
  },
  {
   "cell_type": "code",
   "execution_count": 31,
   "id": "722b06b9-e499-49ef-87d4-caaec6e62a1f",
   "metadata": {},
   "outputs": [
    {
     "data": {
      "text/html": [
       "<div>\n",
       "<style scoped>\n",
       "    .dataframe tbody tr th:only-of-type {\n",
       "        vertical-align: middle;\n",
       "    }\n",
       "\n",
       "    .dataframe tbody tr th {\n",
       "        vertical-align: top;\n",
       "    }\n",
       "\n",
       "    .dataframe thead th {\n",
       "        text-align: right;\n",
       "    }\n",
       "</style>\n",
       "<table border=\"1\" class=\"dataframe\">\n",
       "  <thead>\n",
       "    <tr style=\"text-align: right;\">\n",
       "      <th></th>\n",
       "      <th>type</th>\n",
       "      <th>title</th>\n",
       "      <th>director</th>\n",
       "      <th>cast</th>\n",
       "      <th>country</th>\n",
       "      <th>date_added</th>\n",
       "      <th>release_year</th>\n",
       "      <th>rating</th>\n",
       "      <th>duration</th>\n",
       "      <th>genres</th>\n",
       "      <th>description</th>\n",
       "    </tr>\n",
       "  </thead>\n",
       "  <tbody>\n",
       "    <tr>\n",
       "      <th>0</th>\n",
       "      <td>Movie</td>\n",
       "      <td>Dick Johnson Is Dead</td>\n",
       "      <td>Kirsten Johnson</td>\n",
       "      <td>Unknown</td>\n",
       "      <td>United States</td>\n",
       "      <td>2021-09-25</td>\n",
       "      <td>2020</td>\n",
       "      <td>Teens</td>\n",
       "      <td>90 min</td>\n",
       "      <td>Documentaries</td>\n",
       "      <td>As her father nears the end of his life, filmm...</td>\n",
       "    </tr>\n",
       "    <tr>\n",
       "      <th>1</th>\n",
       "      <td>TV Show</td>\n",
       "      <td>Blood &amp; Water</td>\n",
       "      <td>Unknown</td>\n",
       "      <td>Ama Qamata, Khosi Ngema, Gail Mabalane, Thaban...</td>\n",
       "      <td>South Africa</td>\n",
       "      <td>2021-09-24</td>\n",
       "      <td>2021</td>\n",
       "      <td>Adults</td>\n",
       "      <td>2 Seasons</td>\n",
       "      <td>International TV Shows, TV Dramas, TV Mysteries</td>\n",
       "      <td>After crossing paths at a party, a Cape Town t...</td>\n",
       "    </tr>\n",
       "    <tr>\n",
       "      <th>2</th>\n",
       "      <td>TV Show</td>\n",
       "      <td>Ganglands</td>\n",
       "      <td>Julien Leclercq</td>\n",
       "      <td>Sami Bouajila, Tracy Gotoas, Samuel Jouy, Nabi...</td>\n",
       "      <td>United States</td>\n",
       "      <td>2021-09-24</td>\n",
       "      <td>2021</td>\n",
       "      <td>Adults</td>\n",
       "      <td>1 Season</td>\n",
       "      <td>Crime TV Shows, International TV Shows, TV Act...</td>\n",
       "      <td>To protect his family from a powerful drug lor...</td>\n",
       "    </tr>\n",
       "    <tr>\n",
       "      <th>3</th>\n",
       "      <td>TV Show</td>\n",
       "      <td>Jailbirds New Orleans</td>\n",
       "      <td>Unknown</td>\n",
       "      <td>Unknown</td>\n",
       "      <td>United States</td>\n",
       "      <td>2021-09-24</td>\n",
       "      <td>2021</td>\n",
       "      <td>Adults</td>\n",
       "      <td>1 Season</td>\n",
       "      <td>Docuseries, Reality TV</td>\n",
       "      <td>Feuds, flirtations and toilet talk go down amo...</td>\n",
       "    </tr>\n",
       "    <tr>\n",
       "      <th>4</th>\n",
       "      <td>TV Show</td>\n",
       "      <td>Kota Factory</td>\n",
       "      <td>Unknown</td>\n",
       "      <td>Mayur More, Jitendra Kumar, Ranjan Raj, Alam K...</td>\n",
       "      <td>India</td>\n",
       "      <td>2021-09-24</td>\n",
       "      <td>2021</td>\n",
       "      <td>Adults</td>\n",
       "      <td>2 Seasons</td>\n",
       "      <td>International TV Shows, Romantic TV Shows, TV ...</td>\n",
       "      <td>In a city of coaching centers known to train I...</td>\n",
       "    </tr>\n",
       "    <tr>\n",
       "      <th>5</th>\n",
       "      <td>TV Show</td>\n",
       "      <td>Midnight Mass</td>\n",
       "      <td>Mike Flanagan</td>\n",
       "      <td>Kate Siegel, Zach Gilford, Hamish Linklater, H...</td>\n",
       "      <td>United States</td>\n",
       "      <td>2021-09-24</td>\n",
       "      <td>2021</td>\n",
       "      <td>Adults</td>\n",
       "      <td>1 Season</td>\n",
       "      <td>TV Dramas, TV Horror, TV Mysteries</td>\n",
       "      <td>The arrival of a charismatic young priest brin...</td>\n",
       "    </tr>\n",
       "    <tr>\n",
       "      <th>6</th>\n",
       "      <td>Movie</td>\n",
       "      <td>My Little Pony: A New Generation</td>\n",
       "      <td>Robert Cullen, José Luis Ucha</td>\n",
       "      <td>Vanessa Hudgens, Kimiko Glenn, James Marsden, ...</td>\n",
       "      <td>United States</td>\n",
       "      <td>2021-09-24</td>\n",
       "      <td>2021</td>\n",
       "      <td>Kids</td>\n",
       "      <td>91 min</td>\n",
       "      <td>Children &amp; Family Movies</td>\n",
       "      <td>Equestria's divided. But a bright-eyed hero be...</td>\n",
       "    </tr>\n",
       "    <tr>\n",
       "      <th>7</th>\n",
       "      <td>Movie</td>\n",
       "      <td>Sankofa</td>\n",
       "      <td>Haile Gerima</td>\n",
       "      <td>Kofi Ghanaba, Oyafunmike Ogunlano, Alexandra D...</td>\n",
       "      <td>United States, Ghana, Burkina Faso, United Kin...</td>\n",
       "      <td>2021-09-24</td>\n",
       "      <td>1993</td>\n",
       "      <td>Adults</td>\n",
       "      <td>125 min</td>\n",
       "      <td>Dramas, Independent Movies, International Movies</td>\n",
       "      <td>On a photo shoot in Ghana, an American model s...</td>\n",
       "    </tr>\n",
       "    <tr>\n",
       "      <th>8</th>\n",
       "      <td>TV Show</td>\n",
       "      <td>The Great British Baking Show</td>\n",
       "      <td>Andy Devonshire</td>\n",
       "      <td>Mel Giedroyc, Sue Perkins, Mary Berry, Paul Ho...</td>\n",
       "      <td>United Kingdom</td>\n",
       "      <td>2021-09-24</td>\n",
       "      <td>2021</td>\n",
       "      <td>Teens</td>\n",
       "      <td>9 Seasons</td>\n",
       "      <td>British TV Shows, Reality TV</td>\n",
       "      <td>A talented batch of amateur bakers face off in...</td>\n",
       "    </tr>\n",
       "    <tr>\n",
       "      <th>9</th>\n",
       "      <td>Movie</td>\n",
       "      <td>The Starling</td>\n",
       "      <td>Theodore Melfi</td>\n",
       "      <td>Melissa McCarthy, Chris O'Dowd, Kevin Kline, T...</td>\n",
       "      <td>United States</td>\n",
       "      <td>2021-09-24</td>\n",
       "      <td>2021</td>\n",
       "      <td>Teens</td>\n",
       "      <td>104 min</td>\n",
       "      <td>Comedies, Dramas</td>\n",
       "      <td>A woman adjusting to life after a loss contend...</td>\n",
       "    </tr>\n",
       "  </tbody>\n",
       "</table>\n",
       "</div>"
      ],
      "text/plain": [
       "      type                             title                       director  \\\n",
       "0    Movie              Dick Johnson Is Dead                Kirsten Johnson   \n",
       "1  TV Show                     Blood & Water                        Unknown   \n",
       "2  TV Show                         Ganglands                Julien Leclercq   \n",
       "3  TV Show             Jailbirds New Orleans                        Unknown   \n",
       "4  TV Show                      Kota Factory                        Unknown   \n",
       "5  TV Show                     Midnight Mass                  Mike Flanagan   \n",
       "6    Movie  My Little Pony: A New Generation  Robert Cullen, José Luis Ucha   \n",
       "7    Movie                           Sankofa                   Haile Gerima   \n",
       "8  TV Show     The Great British Baking Show                Andy Devonshire   \n",
       "9    Movie                      The Starling                 Theodore Melfi   \n",
       "\n",
       "                                                cast  \\\n",
       "0                                            Unknown   \n",
       "1  Ama Qamata, Khosi Ngema, Gail Mabalane, Thaban...   \n",
       "2  Sami Bouajila, Tracy Gotoas, Samuel Jouy, Nabi...   \n",
       "3                                            Unknown   \n",
       "4  Mayur More, Jitendra Kumar, Ranjan Raj, Alam K...   \n",
       "5  Kate Siegel, Zach Gilford, Hamish Linklater, H...   \n",
       "6  Vanessa Hudgens, Kimiko Glenn, James Marsden, ...   \n",
       "7  Kofi Ghanaba, Oyafunmike Ogunlano, Alexandra D...   \n",
       "8  Mel Giedroyc, Sue Perkins, Mary Berry, Paul Ho...   \n",
       "9  Melissa McCarthy, Chris O'Dowd, Kevin Kline, T...   \n",
       "\n",
       "                                             country date_added  release_year  \\\n",
       "0                                      United States 2021-09-25          2020   \n",
       "1                                       South Africa 2021-09-24          2021   \n",
       "2                                      United States 2021-09-24          2021   \n",
       "3                                      United States 2021-09-24          2021   \n",
       "4                                              India 2021-09-24          2021   \n",
       "5                                      United States 2021-09-24          2021   \n",
       "6                                      United States 2021-09-24          2021   \n",
       "7  United States, Ghana, Burkina Faso, United Kin... 2021-09-24          1993   \n",
       "8                                     United Kingdom 2021-09-24          2021   \n",
       "9                                      United States 2021-09-24          2021   \n",
       "\n",
       "   rating   duration                                             genres  \\\n",
       "0   Teens     90 min                                      Documentaries   \n",
       "1  Adults  2 Seasons    International TV Shows, TV Dramas, TV Mysteries   \n",
       "2  Adults   1 Season  Crime TV Shows, International TV Shows, TV Act...   \n",
       "3  Adults   1 Season                             Docuseries, Reality TV   \n",
       "4  Adults  2 Seasons  International TV Shows, Romantic TV Shows, TV ...   \n",
       "5  Adults   1 Season                 TV Dramas, TV Horror, TV Mysteries   \n",
       "6    Kids     91 min                           Children & Family Movies   \n",
       "7  Adults    125 min   Dramas, Independent Movies, International Movies   \n",
       "8   Teens  9 Seasons                       British TV Shows, Reality TV   \n",
       "9   Teens    104 min                                   Comedies, Dramas   \n",
       "\n",
       "                                         description  \n",
       "0  As her father nears the end of his life, filmm...  \n",
       "1  After crossing paths at a party, a Cape Town t...  \n",
       "2  To protect his family from a powerful drug lor...  \n",
       "3  Feuds, flirtations and toilet talk go down amo...  \n",
       "4  In a city of coaching centers known to train I...  \n",
       "5  The arrival of a charismatic young priest brin...  \n",
       "6  Equestria's divided. But a bright-eyed hero be...  \n",
       "7  On a photo shoot in Ghana, an American model s...  \n",
       "8  A talented batch of amateur bakers face off in...  \n",
       "9  A woman adjusting to life after a loss contend...  "
      ]
     },
     "execution_count": 31,
     "metadata": {},
     "output_type": "execute_result"
    }
   ],
   "source": [
    "df.head(10)"
   ]
  },
  {
   "cell_type": "markdown",
   "id": "04845e30-0f12-402f-a1a3-3dbc95568cb9",
   "metadata": {},
   "source": [
    "# **Exploratory Data Analysis**"
   ]
  },
  {
   "cell_type": "code",
   "execution_count": 32,
   "id": "b5eb6c08-61d3-4a0c-9cdb-f22edf118f5d",
   "metadata": {},
   "outputs": [],
   "source": [
    "sns.set(style='darkgrid')"
   ]
  },
  {
   "cell_type": "markdown",
   "id": "619c3b8d-5a42-46bc-9eae-3cbe2803e13d",
   "metadata": {},
   "source": [
    "### What is the distribution of MOVIE vs TV show types in the dataset?"
   ]
  },
  {
   "cell_type": "code",
   "execution_count": 33,
   "id": "77525435-0e97-435a-bd39-aef587a34278",
   "metadata": {},
   "outputs": [],
   "source": [
    "def analyze_content_type(df, column_name):\n",
    "    \"\"\"\n",
    "    Analyze the distribution of unique values in a specified column by:\n",
    "    - Calculating the counts and percentages of each unique value.\n",
    "    - Visualizing the distribution using a count plot.\n",
    "\n",
    "    Parameters:\n",
    "    df (DataFrame): The input DataFrame containing the data.\n",
    "    column_name (str): The name of the column for which unique value counts, percentages, and visualization are performed.\n",
    "\n",
    "    Returns:\n",
    "    DataFrame: A DataFrame with two columns: 'Content Type' and 'Percentage(%)', \n",
    "               showing the unique values and their respective percentages rounded to the nearest whole number.\n",
    "    \"\"\"\n",
    "    # Get counts of each unique value in the specified column\n",
    "    type_counts = df[column_name].value_counts()\n",
    "    \n",
    "    # Calculate the percentage of each unique value\n",
    "    type_percentage = (type_counts / len(df)) * 100\n",
    "    type_percentage = type_percentage.round(0)\n",
    "    \n",
    "    # Prepare the results in a DataFrame\n",
    "    ddf = pd.DataFrame(type_percentage).reset_index()\n",
    "    ddf.columns = ['Content Type', 'Percentage(%)']\n",
    "\n",
    "    print(ddf)\n",
    "    \n",
    "    # Plot the distribution\n",
    "    sns.countplot(x=column_name, data=df, palette='viridis')\n",
    "    plt.title(f'Distribution of {column_name}', fontsize=16, fontweight='bold')\n",
    "    plt.xlabel('Content Type', fontsize=12)\n",
    "    plt.ylabel('Count', fontsize=12)\n",
    "    plt.show()\n",
    "    \n"
   ]
  },
  {
   "cell_type": "code",
   "execution_count": 34,
   "id": "eeadc6eb-9d8c-408d-8646-209667569c24",
   "metadata": {
    "scrolled": true
   },
   "outputs": [
    {
     "name": "stdout",
     "output_type": "stream",
     "text": [
      "  Content Type  Percentage(%)\n",
      "0        Movie           70.0\n",
      "1      TV Show           30.0\n"
     ]
    },
    {
     "data": {
      "image/png": "[encoded data removed]",
      "text/plain": [
       "<Figure size 640x480 with 1 Axes>"
      ]
     },
     "metadata": {},
     "output_type": "display_data"
    }
   ],
   "source": [
    "analyze_content_type(df, 'type')"
   ]
  },
  {
   "cell_type": "markdown",
   "id": "ee4dea69-5a0b-463d-95f9-02c6314d0fcf",
   "metadata": {},
   "source": [
    "**Key Finding**\n",
    "\n",
    "- 70% of the contents on Netflix are Movies\n",
    "- 30% are TV Show\n",
    "  \n",
    "*This indicates that Netflix indeed has more movies in its content library than TV shows.*"
   ]
  },
  {
   "cell_type": "markdown",
   "id": "f9ed34a9-2887-45eb-ad43-689a1d97ca99",
   "metadata": {},
   "source": [
    "### Which Are the Top 10 Countries by Unique Netflix Content Distribution?"
   ]
  },
  {
   "cell_type": "code",
   "execution_count": 35,
   "id": "dd085080-fe54-4090-8352-8f99848a0f0a",
   "metadata": {},
   "outputs": [],
   "source": [
    "def plot_content_distribution(df):\n",
    "    \"\"\"\n",
    "    Removes duplicate titles per country, identifies the top 10 countries \n",
    "    by unique content count, and plots the content distribution across \n",
    "    these countries based on the type of content.\n",
    "\n",
    "    Parameters:\n",
    "        df (pandas.DataFrame): The input DataFrame containing at least \n",
    "                               the following columns:\n",
    "                               - 'country': Country of the content\n",
    "                               - 'title': Title of the content\n",
    "                               - 'type': Type/category of the content\n",
    "    \n",
    "    Returns:\n",
    "        None: Displays the plot showing the content distribution across \n",
    "              the top 10 countries.\n",
    "    \"\"\"\n",
    "    \n",
    "    # Remove duplicate titles per country\n",
    "    df_temp = df.drop_duplicates(subset=['country', 'title'])\n",
    "\n",
    "    # Get the top 10 countries by unique content count\n",
    "    top_countries = df_temp['country'].value_counts().nlargest(10).index\n",
    "\n",
    "    # Filter df_temp to only include rows from these top 10 countries\n",
    "    df_top_countries = df_temp[df_temp['country'].isin(top_countries)]\n",
    "\n",
    "    # Plotting\n",
    "    plt.figure(figsize=(17, 8))\n",
    "    plt.title('Content Distribution Across Top 10 Countries', fontsize=16, fontweight='bold')\n",
    "\n",
    "    # Countplot with the filtered data\n",
    "    label = sns.countplot(data=df_top_countries, x='country', hue='type', order=top_countries)\n",
    "\n",
    "    # Add bar labels to indicate count values\n",
    "    for container in label.containers:\n",
    "        label.bar_label(container)\n",
    "\n",
    "    # Show the plot\n",
    "    plt.show()\n"
   ]
  },
  {
   "cell_type": "code",
   "execution_count": 36,
   "id": "6e6d1dff-6e6f-4ba0-8b8f-a8c0b387280f",
   "metadata": {},
   "outputs": [
    {
     "data": {
      "image/png": "[encoded data removed]",
      "text/plain": [
       "<Figure size 1700x800 with 1 Axes>"
      ]
     },
     "metadata": {},
     "output_type": "display_data"
    }
   ],
   "source": [
    "plot_content_distribution(df)"
   ]
  },
  {
   "cell_type": "markdown",
   "id": "b552054e-4519-480b-9e2b-11397754bbfe",
   "metadata": {},
   "source": [
    "**Key Finding**\n",
    "\n",
    "- United States has the highest count, with a significant lead in both Movies and TV shows\n",
    "- India is second, predominantly featuring Movies over TV shows\n",
    "- The United Kingdom, Japan, and South Korea follow, reach with a balanced mix of Movies and TV shows\n",
    "- Other Countries (Canada, Spain, France, Mexico, and Egypt) have considerably fewer titles, with movies generally outnumbering TV shows in each.\n",
    "\n",
    "*Overall, Movies are more Prevalent than Tv shows across these top countries*"
   ]
  },
  {
   "cell_type": "markdown",
   "id": "6424e7d5-f55b-4ea2-a188-34debc21b721",
   "metadata": {},
   "source": [
    "### Which Content Rating is Most Common?"
   ]
  },
  {
   "cell_type": "code",
   "execution_count": 37,
   "id": "427e252d-276e-4066-98d1-5b4496288dcf",
   "metadata": {},
   "outputs": [],
   "source": [
    "def calculate_and_plot_rating_distribution(df):\n",
    "    \"\"\"\n",
    "    Calculates the percentage distribution of unique values in the 'rating' \n",
    "    column of the given DataFrame, displays the result, and plots a pie chart \n",
    "    showing the distribution.\n",
    "\n",
    "    Parameters:\n",
    "        df (pandas.DataFrame): The input DataFrame containing a 'rating' column.\n",
    "\n",
    "    Returns:\n",
    "        None\n",
    "    \"\"\"\n",
    "    \n",
    "    # Get counts of each unique value in the 'rating' column\n",
    "    rating_counts = df['rating'].value_counts()\n",
    "\n",
    "    # Calculate the percentage of each rating\n",
    "    rating_percentage = (rating_counts / len(df)) * 100\n",
    "    rating_percentage = rating_percentage.round(0)\n",
    "\n",
    "    # Create a DataFrame with the results\n",
    "    ddf = pd.DataFrame(rating_percentage).reset_index()\n",
    "    ddf.columns = ['Rating', 'Percentage(%)']\n",
    "\n",
    "    # Display the result\n",
    "    print(ddf)\n",
    "\n",
    "    # Plot a pie chart for the distribution\n",
    "    plt.figure(figsize=(8, 6))\n",
    "    plt.pie(\n",
    "        rating_counts, \n",
    "        labels=rating_counts.index, \n",
    "        autopct='%.0f%%', \n",
    "        startangle=90, \n",
    "        explode=[0.04 if i == 0 else 0.03 for i in range(len(rating_counts))], \n",
    "        shadow=True\n",
    "    )\n",
    "    plt.title(\"Distribution of Content's Rating\", fontsize=16, fontweight='bold')\n",
    "    plt.axis('equal')  # Equal aspect ratio ensures the pie is drawn as a circle\n",
    "    plt.show()\n"
   ]
  },
  {
   "cell_type": "code",
   "execution_count": 38,
   "id": "20336222-ce6b-4dc6-bbee-8d20bd00647c",
   "metadata": {},
   "outputs": [
    {
     "name": "stdout",
     "output_type": "stream",
     "text": [
      "   Rating  Percentage(%)\n",
      "0  Adults           49.0\n",
      "1   Teens           30.0\n",
      "2    Kids           21.0\n"
     ]
    },
    {
     "data": {
      "image/png": "[encoded data removed]",
      "text/plain": [
       "<Figure size 800x600 with 1 Axes>"
      ]
     },
     "metadata": {},
     "output_type": "display_data"
    }
   ],
   "source": [
    "calculate_and_plot_rating_distribution(df)"
   ]
  },
  {
   "cell_type": "markdown",
   "id": "2fb58e82-a28f-4ac0-98f3-dceb77cc736b",
   "metadata": {},
   "source": [
    "**Key Findings**\n",
    "\n",
    "- 49% of the contents is rated for Adults\n",
    "- 30% is rated for Teens\n",
    "- 21% is rated for kids\n",
    "\n",
    "*This indicates that majority of contents is geared towards adults, with a smaller portion directed at teens and kids*\n",
    "\n",
    "NB: *Adult content rating is most common*"
   ]
  },
  {
   "cell_type": "markdown",
   "id": "56553161-4aa9-4b33-8e5d-b0a303069610",
   "metadata": {},
   "source": [
    "### Which Genres Dominate Netflix's Movie and Tv Catalog?"
   ]
  },
  {
   "cell_type": "code",
   "execution_count": 39,
   "id": "9b63681e-9d49-471b-a366-052ac0a73a5e",
   "metadata": {},
   "outputs": [],
   "source": [
    "def plot_genre_distribution_by_type(df):\n",
    "    \"\"\"\n",
    "    Plots the distribution of genres for Movies and TV Shows as normal bar plots.\n",
    "\n",
    "    The function processes the 'genres' and 'type' columns of the input DataFrame to:\n",
    "    1. Split and flatten the genres into individual genre counts.\n",
    "    2. Separate the dataset into Movies and TV Shows.\n",
    "    3. Count the frequency of each genre for both Movies and TV Shows.\n",
    "    4. Plot the top 10 genres for Movies and TV Shows in separate subplots using normal bar charts.\n",
    "\n",
    "    Parameters:\n",
    "    - df (pd.DataFrame): A DataFrame containing at least the 'genres' and 'type' columns, \n",
    "                          where 'genres' is a comma-separated string of genres and 'type' \n",
    "                          specifies whether the entry is a 'Movie' or 'TV Show'.\n",
    "\n",
    "    Returns:\n",
    "    - None: Displays a plot with two normal bar plots (one for Movies and one for TV Shows).\n",
    "    \"\"\"\n",
    "    \n",
    "    # Split the genres by commas and flatten the list\n",
    "    genres = df['genres'].dropna().str.split(', ').explode()\n",
    "\n",
    "    # Count the frequency of each genre\n",
    "    genre_counts = genres.value_counts()\n",
    "\n",
    "    # Separate Movies and TV Shows\n",
    "    movies = df[df['type'] == 'Movie']\n",
    "    tv_shows = df[df['type'] == 'TV Show']\n",
    "\n",
    "    # Extract genres for movies and TV shows separately\n",
    "    movie_genres = movies['genres'].dropna().str.split(', ').explode()\n",
    "    tv_show_genres = tv_shows['genres'].dropna().str.split(', ').explode()\n",
    "    \n",
    "    # Count the genre frequency for both Movies and TV Shows\n",
    "    movie_genre_counts = movie_genres.value_counts()\n",
    "    tv_show_genre_counts = tv_show_genres.value_counts()\n",
    "\n",
    "    # Plot the results (Bar chart for genres in Movies and TV Shows)\n",
    "    fig, axes = plt.subplots(1, 2, figsize=(15, 6))\n",
    "\n",
    "    # Plot for Movies (Bar bar chart)\n",
    "    sns.barplot(x=movie_genre_counts.head(10).index,\n",
    "                y=movie_genre_counts.head(10).values,\n",
    "                palette=random.choice(seaborn_palettes),\n",
    "                ax=axes[0])\n",
    "    axes[0].set_title('Top 10 Genres in Movies')\n",
    "    axes[0].set_xlabel('Genre')\n",
    "    axes[0].set_ylabel('Number of Titles')\n",
    "    axes[0].tick_params(axis='x', rotation=45)\n",
    "\n",
    "    # Plot for TV Shows (normal bar chart)\n",
    "    sns.barplot(x=tv_show_genre_counts.head(10).index,\n",
    "                y=tv_show_genre_counts.head(10).values,\n",
    "                palette=random.choice(seaborn_palettes),\n",
    "                ax=axes[1])\n",
    "    axes[1].set_title('Top 10 Genres in TV Shows')\n",
    "    axes[1].set_xlabel('Genre')\n",
    "    axes[1].set_ylabel('Number of Titles')\n",
    "    axes[1].tick_params(axis='x', rotation=45)\n",
    "\n",
    "    # Tight layout for better spacing\n",
    "    plt.tight_layout()\n",
    "    plt.show()"
   ]
  },
  {
   "cell_type": "code",
   "execution_count": 40,
   "id": "05410269-ba39-427e-994f-daff2e306853",
   "metadata": {},
   "outputs": [
    {
     "data": {
      "image/png": "[encoded data removed]",
      "text/plain": [
       "<Figure size 1500x600 with 2 Axes>"
      ]
     },
     "metadata": {},
     "output_type": "display_data"
    }
   ],
   "source": [
    "plot_genre_distribution_by_type(df)"
   ]
  },
  {
   "cell_type": "markdown",
   "id": "7f0d7c81-0c9a-4955-a2a7-6dd4234135d5",
   "metadata": {},
   "source": [
    "**Key Findings**\n",
    "\n",
    "The Netflix catalog is dominated by International Movies and TV Shows across both categories. For Movies, the top genres are International Movies, Dramas, Comedies, Documentaries, Action & Adventure, Independent Movies, Children & Family Movies Romantic Movies, Thrillers, and Music & Musicals. For TV Shows, the leading genres are International TV Shows, TV Dramas, TV Comedies, Crime TV Shows, Kids' TV, Docuseries, Romantic TV Shows, Reality TV, British TV Shows and Anime Series.\n",
    "\n",
    " \n",
    "*The majority of the content falls under the International genre, followed by Dramas and comedies*.\n"
   ]
  },
  {
   "cell_type": "code",
   "execution_count": null,
   "id": "0511048a-15c5-4a3d-81ee-683d1425c4fd",
   "metadata": {},
   "outputs": [],
   "source": []
  }
 ],
 "metadata": {
  "kernelspec": {
   "display_name": "Python 3 (ipykernel)",
   "language": "python",
   "name": "python3"
  },
  "language_info": {
   "codemirror_mode": {
    "name": "ipython",
    "version": 3
   },
   "file_extension": ".py",
   "mimetype": "text/x-python",
   "name": "python",
   "nbconvert_exporter": "python",
   "pygments_lexer": "ipython3",
   "version": "3.11.7"
  }
 },
 "nbformat": 4,
 "nbformat_minor": 5
}
